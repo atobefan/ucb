{
  "nbformat": 4,
  "nbformat_minor": 0,
  "metadata": {
    "colab": {
      "name": "FDR Control.ipynb",
      "provenance": [],
      "collapsed_sections": [],
      "include_colab_link": true
    },
    "kernelspec": {
      "name": "python3",
      "display_name": "Python 3"
    }
  },
  "cells": [
    {
      "cell_type": "markdown",
      "metadata": {
        "id": "view-in-github",
        "colab_type": "text"
      },
      "source": [
        "<a href=\"https://colab.research.google.com/github/atobefan/ucb/blob/master/FDR_Control.ipynb\" target=\"_parent\"><img src=\"https://colab.research.google.com/assets/colab-badge.svg\" alt=\"Open In Colab\"/></a>"
      ]
    },
    {
      "cell_type": "code",
      "metadata": {
        "id": "68soFzogCX1q",
        "colab_type": "code",
        "colab": {}
      },
      "source": [
        "import numpy as np\n",
        "import matplotlib.pyplot as plt\n",
        "import pandas as pd\n",
        "from scipy.stats import multivariate_normal\n",
        "from scipy.stats import norm\n",
        "import scipy.stats\n"
      ],
      "execution_count": 0,
      "outputs": []
    },
    {
      "cell_type": "code",
      "metadata": {
        "colab_type": "code",
        "id": "z0G__FU9O1k7",
        "colab": {}
      },
      "source": [
        "normal_distribution = scipy.stats.norm(loc=0,scale=1)"
      ],
      "execution_count": 0,
      "outputs": []
    },
    {
      "cell_type": "code",
      "metadata": {
        "id": "qt3QPFqPVk-a",
        "colab_type": "code",
        "colab": {}
      },
      "source": [
        "def benjamini_hochberg(p_values, alpha):\n",
        "    # returns decisions: a binary vector of the same length as p-values, \n",
        "    # where decisions[i] is 1 if p_values[i] is deemed significant at level alpha, and 0 otherwize\n",
        "    \n",
        "    n = len(p_values)\n",
        "    \n",
        "    # get the idxs which will sorted the p-values in ascending order\n",
        "    sorted_idxs = np.argsort(p_values)\n",
        "    sorted_p_values = p_values[sorted_idxs]\n",
        "    # find the largest k for which p_values[k] < k/n * alpha\n",
        "    \n",
        "    #  instantiate vector for k/n * alpha\n",
        "    comparison = np.arange(1, n+1) * alpha / n\n",
        "    \n",
        "    # find the largest k such that p value falls below the comparison line\n",
        "    # add one for zero indexing\n",
        "    k = np.argmax(np.where(sorted_p_values <= comparison))\n",
        "    \n",
        "    # declare a discovery for anything with p-value <= the k^th p-value\n",
        "    p_k = sorted_p_values[k]\n",
        "    \n",
        "    # instantiate decisions\n",
        "    decisions = (p_values <= p_k).astype(int)\n",
        "    \n",
        "    # return decisions\n",
        "    return decisions"
      ],
      "execution_count": 0,
      "outputs": []
    },
    {
      "cell_type": "code",
      "metadata": {
        "id": "gnXTKJsZkMm3",
        "colab_type": "code",
        "outputId": "0d13ea39-43b2-4355-bff7-69835f35db44",
        "colab": {
          "base_uri": "https://localhost:8080/",
          "height": 34
        }
      },
      "source": [
        "  z =[]\n",
        "  for w in range(len(mu)):\n",
        "    z_values = np.random.normal(loc=mu[w], scale=1.0)\n",
        "    z.append(z_values)\n",
        "    p_values = 1-normal_distribution.cdf(z)\n",
        "  predict=[1 if p_values[i-1]/(2*w/501) <=(alpha/500) else 0 for w in range(1,501)]\n"
      ],
      "execution_count": 0,
      "outputs": [
        {
          "output_type": "execute_result",
          "data": {
            "text/plain": [
              "500"
            ]
          },
          "metadata": {
            "tags": []
          },
          "execution_count": 24
        }
      ]
    },
    {
      "cell_type": "code",
      "metadata": {
        "id": "bmifcoQi0zfd",
        "colab_type": "code",
        "colab": {}
      },
      "source": [
        "def classic_decision(p_vals, alpha):\n",
        "    n = len(p_vals)\n",
        "    decisions = np.array(p_vals) <= np.array([alpha]*n)\n",
        "    return list(decisions)\n",
        "\n",
        "def bonferroni_decision(p_vals, alpha):\n",
        "    n = len(p_vals)\n",
        "    alphas = [alpha/n]*n\n",
        "    decisions = [p_vals[i] <= alphas[i] for i in range(n)]\n",
        "    return decisions\n",
        "\n",
        "def benjamin_Hochberg_decision(p_vals, alpha):\n",
        "    n = len(p_vals)\n",
        "    sorted_p = sorted(p_vals)\n",
        "    K_map = {sorted_p[k-1]: k for k in range(1,n+1)}\n",
        "    alphas = list((alpha/n)*np.arange(1, n+1))\n",
        "    decisions = [sorted_p[i] <= alphas[i] for i in range(n)]\n",
        "\n",
        "    try:\n",
        "        K = n - decisions[::-1].index(True)\n",
        "        decisions = [True if K_map[p] <= K else False for p in p_vals]\n",
        "    except:\n",
        "        decisions = [False]*n\n",
        "    return decisions\n",
        "\n",
        "def weighted_procedure(p_vals, alpha, w):\n",
        "    #w is a function is a function of i\n",
        "    decisions = []\n",
        "    n = len(p_vals)\n",
        "    Ws = np.array([w(i) for i in range(1, n+1)])\n",
        "    sig = alpha/n*Ws\n",
        "    for i in range(n):\n",
        "        s = sig[i]\n",
        "        if s == 0:\n",
        "            decisions.append(False)\n",
        "        else:\n",
        "            decisions.append(p_vals[i] <= s)\n",
        "    return decisions\n",
        "def truth_table(actual, decisions):\n",
        "    n = len(decisions)\n",
        "    num_rej = sum(decisions)\n",
        "    rej_true = sum([actual[i] and decisions[i] for i in range(n)])\n",
        "    rej_false = num_rej - rej_true\n",
        "    if num_rej == 0:\n",
        "        FDR = 0\n",
        "    else:\n",
        "        FDR = rej_false/num_rej\n",
        "    \n",
        "    return num_rej, rej_true, rej_false, FDR\n",
        "\n"
      ],
      "execution_count": 0,
      "outputs": []
    },
    {
      "cell_type": "code",
      "metadata": {
        "id": "QLmaR1JP04uJ",
        "colab_type": "code",
        "colab": {}
      },
      "source": [
        "def mvNorm_sample(mu, C):\n",
        "    ## Takes one sample from desired MV Normal distribution and returns p-vals\n",
        "    z_s = -(np.random.multivariate_normal(mu, C))\n",
        "    p_vals = scipy.stats.norm.cdf(z_s)\n",
        "    return p_vals\n"
      ],
      "execution_count": 0,
      "outputs": []
    },
    {
      "cell_type": "code",
      "metadata": {
        "id": "-tH4S1z-06fA",
        "colab_type": "code",
        "colab": {}
      },
      "source": [
        "def experiments1(mu, C, alphas, true_H1, decision_fn, N = 100):\n",
        "    results = {\"Total Rejections\":[], \"True Rejections\":[], \"False Rejections\":[], \"FDR\":[]}\n",
        "    for alpha in alphas: #for each alpha, do N experiments\n",
        "        n_rej, n_tr, n_fr, FDRs = [], [], [], []\n",
        "        for _ in range(N): #sample 100 times\n",
        "            p_values = mvNorm_sample(mu, C)\n",
        "            decisions = decision_fn(p_values, alpha)\n",
        "            num_rej, rej_true, rej_false, FDR = truth_table(true_H1, decisions)\n",
        "            n_rej.append(num_rej)\n",
        "            n_tr.append(rej_true)\n",
        "            n_fr.append(rej_false)\n",
        "            FDRs.append(FDR)\n",
        "            \n",
        "        results[\"Total Rejections\"].append(np.mean(n_rej))\n",
        "        results[\"True Rejections\"].append(np.mean(n_tr))\n",
        "        results[\"False Rejections\"].append(np.mean(n_fr))\n",
        "        results[\"FDR\"].append(np.mean(FDRs))\n",
        "    return results\n",
        "\n",
        "def experiments_weighted(mu, C, alphas, true_H1, decision_fn, w_fn, N = 100):\n",
        "    results = {\"Total Rejections\":[], \"True Rejections\":[], \"False Rejections\":[], \"FDR\":[]}\n",
        "    for alpha in alphas: #for each alpha, do N experiments\n",
        "        n_rej, n_tr, n_fr, FDRs = [], [], [], []\n",
        "        for _ in range(N): #sample 100 times\n",
        "            p_values = mvNorm_sample(mu, C)\n",
        "            decisions = decision_fn(p_values, alpha, w_fn)\n",
        "            num_rej, rej_true, rej_false, FDR = truth_table(true_H1, decisions)\n",
        "            n_rej.append(num_rej)\n",
        "            n_tr.append(rej_true)\n",
        "            n_fr.append(rej_false)\n",
        "            FDRs.append(FDR)\n",
        "        results[\"Total Rejections\"].append(np.mean(n_rej))\n",
        "        results[\"True Rejections\"].append(np.mean(n_tr))\n",
        "        results[\"FDR\"].append(np.mean(FDRs))\n",
        "    return results"
      ],
      "execution_count": 0,
      "outputs": []
    },
    {
      "cell_type": "code",
      "metadata": {
        "id": "c-PnqsRM08_B",
        "colab_type": "code",
        "colab": {}
      },
      "source": [
        "mu = [0 if i <= 450 else (i-450)/5.0 for i in range(1,501)]\n",
        "C = np.identity(500)\n",
        "true_H1 = list(np.array(mu) != 0)"
      ],
      "execution_count": 0,
      "outputs": []
    },
    {
      "cell_type": "code",
      "metadata": {
        "id": "1ZKD3jPp0_CK",
        "colab_type": "code",
        "colab": {}
      },
      "source": [
        "N = 100\n",
        "alphas = [0.001, 0.005, 0.01, 0.05, 0.1, 0.2, 0.3, 0.4, 0.5]\n",
        "classic = experiments1(mu, C, alphas, true_H1, classic_decision)\n"
      ],
      "execution_count": 0,
      "outputs": []
    },
    {
      "cell_type": "code",
      "metadata": {
        "id": "2DY2HBG71AwZ",
        "colab_type": "code",
        "colab": {}
      },
      "source": [
        "alphas = [0.001, 0.005, 0.01, 0.05, 0.1, 0.2, 0.3, 0.4, 0.5]\n",
        "bonferroni = experiments1(mu, C, alphas, true_H1, bonferroni_decision)\n"
      ],
      "execution_count": 0,
      "outputs": []
    },
    {
      "cell_type": "code",
      "metadata": {
        "id": "ljU1mzIQ1E-H",
        "colab_type": "code",
        "colab": {}
      },
      "source": [
        "alphas = [0.001, 0.005, 0.01, 0.05, 0.1, 0.2, 0.3, 0.4, 0.5]\n",
        "benjamini= experiments1(mu, C, alphas, true_H1, benjamin_Hochberg_decision)"
      ],
      "execution_count": 0,
      "outputs": []
    },
    {
      "cell_type": "code",
      "metadata": {
        "id": "I-4uiFh51I8S",
        "colab_type": "code",
        "outputId": "5a92e7a2-ccd5-4a2d-cd4e-67a5e810473d",
        "colab": {
          "base_uri": "https://localhost:8080/",
          "height": 493
        }
      },
      "source": [
        "alphas = [0.001, 0.005, 0.01, 0.05, 0.1, 0.2, 0.3, 0.4, 0.5]\n",
        "w1_fn = lambda i: 2*i/501\n",
        "iv = experiments_weighted(mu, C, alphas, true_H1, weighted_procedure, w1_fn)\n"
      ],
      "execution_count": 0,
      "outputs": [
        {
          "output_type": "execute_result",
          "data": {
            "text/plain": [
              "{'FDR': [0.0,\n",
              "  0.0,\n",
              "  0.00030303030303030303,\n",
              "  0.0005798319327731092,\n",
              "  0.0016869558030548743,\n",
              "  0.002770852225011817,\n",
              "  0.008786552976955454,\n",
              "  0.01060758373451872,\n",
              "  0.010755461071250543],\n",
              " 'False Rejections': [0.0, 0.0, 0.01, 0.02, 0.06, 0.1, 0.32, 0.39, 0.4],\n",
              " 'Total Rejections': [28.25,\n",
              "  30.02,\n",
              "  30.86,\n",
              "  32.69,\n",
              "  33.63,\n",
              "  34.94,\n",
              "  35.55,\n",
              "  36.02,\n",
              "  36.32],\n",
              " 'True Rejections': [28.25,\n",
              "  30.02,\n",
              "  30.85,\n",
              "  32.67,\n",
              "  33.57,\n",
              "  34.84,\n",
              "  35.23,\n",
              "  35.63,\n",
              "  35.92]}"
            ]
          },
          "metadata": {
            "tags": []
          },
          "execution_count": 52
        }
      ]
    },
    {
      "cell_type": "code",
      "metadata": {
        "id": "4pnzMsuw1Qgg",
        "colab_type": "code",
        "colab": {}
      },
      "source": [
        "alphas = [0.001, 0.005, 0.01, 0.05, 0.1, 0.2, 0.3, 0.4, 0.5]\n",
        "w2_fn = lambda i: 2*(501-i)/501\n",
        "v = experiments_weighted(mu, C, alphas, true_H1, weighted_procedure, w2_fn)"
      ],
      "execution_count": 0,
      "outputs": []
    },
    {
      "cell_type": "code",
      "metadata": {
        "id": "iymOzwS_1MBs",
        "colab_type": "code",
        "colab": {}
      },
      "source": [
        "alphas = [0.001, 0.005, 0.01, 0.05, 0.1, 0.2, 0.3, 0.4, 0.5]\n",
        "w3_fn = lambda i: 0.5 if ((i<=450) and (i>=1)) else 5.5\n",
        "vi = experiments_weighted(mu, C, alphas, true_H1, weighted_procedure, w3_fn)"
      ],
      "execution_count": 0,
      "outputs": []
    },
    {
      "cell_type": "code",
      "metadata": {
        "id": "1KhzW4Oa1VHu",
        "colab_type": "code",
        "colab": {}
      },
      "source": [
        "def plot(results, attribute, labels):\n",
        "    n = len(labels)\n",
        "#     plt.figure(figsize = (15,15), dpi = 500)\n",
        "    for i in range(n):\n",
        "        dictionary = results[i]\n",
        "        plt.plot(pi, dictionary[attribute], label = labels[i])\n",
        "        plt.title(\"Average \" + attribute)\n",
        "    plt.legend()\n",
        "    plt.show()"
      ],
      "execution_count": 0,
      "outputs": []
    },
    {
      "cell_type": "code",
      "metadata": {
        "id": "cKjrixXn1XKC",
        "colab_type": "code",
        "outputId": "b72d6dc8-3dc4-421b-acc6-af8ae883920f",
        "colab": {
          "base_uri": "https://localhost:8080/",
          "height": 809
        }
      },
      "source": [
        "labels = [\"classic\", \"bonferroni\", \"benjamini\", \"iv\", \"v\", \"vi\"]\n",
        "results = [classic, bonferroni, benjamini, iv, v, vi]\n",
        "\n",
        "plot(results, \"Total Rejections\", labels)\n",
        "plot(results, \"True Rejections\", labels)\n",
        "plot(results, \"FDR\", labels)"
      ],
      "execution_count": 0,
      "outputs": [
        {
          "output_type": "display_data",
          "data": {
            "image/png": "[encoded data removed]",
            "text/plain": [
              "<Figure size 432x288 with 1 Axes>"
            ]
          },
          "metadata": {
            "tags": []
          }
        },
        {
          "output_type": "display_data",
          "data": {
            "image/png": "[encoded data removed]",
            "text/plain": [
              "<Figure size 432x288 with 1 Axes>"
            ]
          },
          "metadata": {
            "tags": []
          }
        },
        {
          "output_type": "display_data",
          "data": {
            "image/png": "[encoded data removed]",
            "text/plain": [
              "<Figure size 432x288 with 1 Axes>"
            ]
          },
          "metadata": {
            "tags": []
          }
        }
      ]
    },
    {
      "cell_type": "code",
      "metadata": {
        "id": "yV53Jb0s5cGx",
        "colab_type": "code",
        "colab": {}
      },
      "source": [
        "import math\n",
        "def LORD(stream,alpha):\n",
        "    # Inputs: stream - array of p-values, alpha - target FDR level\n",
        "    # Output: array of indices k such that the k-th p-value corresponds to a discovery\n",
        "    \n",
        "    gamma = lambda t: 6/(math.pi*t)**2\n",
        "    w_0 = alpha/2\n",
        "    n = len(stream)\n",
        "    rejections = []\n",
        "    alpha_t = gamma(1)*w_0\n",
        "    for t in range(1,n+1):\n",
        "        # Offset by one since indexing by 1 for t\n",
        "        p_t = stream[t-1] \n",
        "        \n",
        "        if p_t < alpha_t:\n",
        "            rejections.append(t)\n",
        "\n",
        "        next_alpha_t = gamma(t+1)*w_0 + alpha*sum([gamma(t+1-rej) for rej in rejections])\n",
        "        # Check if tau_1 exists\n",
        "        if len(rejections)>0:\n",
        "            next_alpha_t -= gamma(t+1-rejections[0])*w_0\n",
        "        \n",
        "\n",
        "        # Update alpha\n",
        "        alpha_t = next_alpha_t\n",
        "    # Shift rejections since the rejections are 1-indexed\n",
        "    shifted_rej = [rej-1 for rej in rejections]\n",
        "    return shifted_rej\n",
        "  \n",
        "def LORDD(stream,alpha):\n",
        "    decision = [0]*len(stream)\n",
        "    for i in LORD(stream,alpha):\n",
        "      decision[i]=1\n",
        "    return decision"
      ],
      "execution_count": 0,
      "outputs": []
    },
    {
      "cell_type": "code",
      "metadata": {
        "id": "LR6GRqdaDBUt",
        "colab_type": "code",
        "colab": {}
      },
      "source": [
        "def bonferroni_decision(p_vals, alpha):\n",
        "    n = len(p_vals)\n",
        "    alphas = [alpha/n]*n\n",
        "    decisions = [p_vals[i] <= alphas[i] for i in range(n)]\n",
        "    return decisions"
      ],
      "execution_count": 0,
      "outputs": []
    },
    {
      "cell_type": "markdown",
      "metadata": {
        "id": "F3xzefQ-DDbW",
        "colab_type": "text"
      },
      "source": [
        "(i) For every i ∈ {1,...,N}, generate θi ∼ Bern(1-π0). If θi = 0, the p-value Pi is null, and should be generated from Unif[0, 1]. If θi = 1, the p-value Pi is an alternative. Then, generate Zi ∼ N (3, 1), and let Pi = Φ(−Zi), where Φ is the standard Gaussian N(0,1) CDF.\n",
        "\n"
      ]
    },
    {
      "cell_type": "code",
      "metadata": {
        "id": "Ri5nKLE-DKmm",
        "colab_type": "code",
        "colab": {}
      },
      "source": [
        "def p_values_1(pi0):\n",
        "  p_values=[]\n",
        "  theta = []\n",
        "  for i in range(1,1001):\n",
        "    thetai = np.random.binomial(n=1, p= 1-pi0)\n",
        "    theta.append(thetai)\n",
        "    if thetai==0:\n",
        "      pvi = np.random.uniform(0,1)\n",
        "    else:\n",
        "      zi=np.random.normal(loc=3, scale=1.0)\n",
        "      pvi = 1-normal_distribution.cdf(zi)\n",
        "    p_values.append(pvi)\n",
        "  \n",
        "  return theta,p_values\n",
        "\n"
      ],
      "execution_count": 0,
      "outputs": []
    },
    {
      "cell_type": "markdown",
      "metadata": {
        "id": "HbOPX8_OFicf",
        "colab_type": "text"
      },
      "source": [
        "(ii)For i = 1,...,π0N, set θi = 0, meaning the hypothesis is truly null, and let Pi ∼ Unif[0,1]. For i = π0N +1,...,N, θi = 1, and the hypothesis is truly alternative. Then, generate Zi ∼ N (3, 1), and let Pi = Φ(−Zi), where Φ is the standard Gaussian N(0,1) CDF."
      ]
    },
    {
      "cell_type": "code",
      "metadata": {
        "id": "b5VbuTr-E0zz",
        "colab_type": "code",
        "colab": {}
      },
      "source": [
        "def p_values_2(pi0):\n",
        "  p_values=[]\n",
        "  theta = []\n",
        "  for i in range(1,int(pi0*1000)+1):\n",
        "    thetai = 0\n",
        "    theta.append(thetai)\n",
        "    pvi = np.random.uniform(0,1)\n",
        "    p_values.append(pvi)\n",
        "  for j in range(int(pi0*1000)+1,1001):\n",
        "    thetai = 1\n",
        "    theta.append(thetai)\n",
        "    zi=np.random.normal(loc=3, scale=1.0)\n",
        "    pvj = 1-normal_distribution.cdf(zi)\n",
        "    p_values.append(pvj)\n",
        "  return theta, p_values"
      ],
      "execution_count": 0,
      "outputs": []
    },
    {
      "cell_type": "code",
      "metadata": {
        "id": "yYNsV_VMG2JB",
        "colab_type": "code",
        "colab": {}
      },
      "source": [
        "def p_values_3(pi0):\n",
        "  p_values=[]\n",
        "  theta = []\n",
        "  for i in range(1,1000-int(pi0*1000)+1):\n",
        "    thetai = 1\n",
        "    theta.append(thetai)\n",
        "    zi=np.random.normal(loc=3, scale=1.0)\n",
        "    pvi = 1-normal_distribution.cdf(zi)\n",
        "    p_values.append(pvi)\n",
        "  for j in range(1000-int(pi0*1000)+1,1001):\n",
        "    thetai = 0\n",
        "    theta.append(thetai)\n",
        "    pvj = np.random.uniform(0,1)\n",
        "    p_values.append(pvj)\n",
        "  return theta,p_values\n"
      ],
      "execution_count": 0,
      "outputs": []
    },
    {
      "cell_type": "code",
      "metadata": {
        "id": "E9Hb_woSMDIM",
        "colab_type": "code",
        "colab": {}
      },
      "source": [
        "def truth_table(actual, decisions):\n",
        "    n = len(decisions)\n",
        "    num_rej = sum(decisions)\n",
        "    real_1 = sum(actual)\n",
        "    rej_true = sum([actual[i] and decisions[i] for i in range(n)])\n",
        "    rej_false = num_rej - rej_true\n",
        "    sen = rej_true/real_1\n",
        "    if num_rej == 0:\n",
        "        FDR = 0\n",
        "    else:\n",
        "        FDR = rej_false/num_rej\n",
        "    \n",
        "    return num_rej, rej_true, rej_false, FDR, sen\n",
        "\n"
      ],
      "execution_count": 0,
      "outputs": []
    },
    {
      "cell_type": "code",
      "metadata": {
        "id": "Tcmik8ArKwgn",
        "colab_type": "code",
        "colab": {}
      },
      "source": [
        "def experiments( pv_func, decision_fn, alpha, pi, N = 100):\n",
        "    results = {\"Total Rejections\":[], \"True Rejections\":[], \"False Rejections\":[], \"FDR\":[],\"Sensitivity\":[]}\n",
        "    for i in pi: #for each pi, do N experiments\n",
        "        n_rej, n_tr, n_fr, FDRs, Sens = [], [], [], [],[]\n",
        "        for _ in range(N): #sample 100 times\n",
        "            true_H1,p_values = pv_func(i)\n",
        "            decisions = decision_fn(p_values, alpha)\n",
        "            num_rej, rej_true, rej_false, FDR, sen = truth_table(true_H1, decisions)\n",
        "            n_rej.append(num_rej)\n",
        "            n_tr.append(rej_true)\n",
        "            n_fr.append(rej_false)\n",
        "            FDRs.append(FDR)\n",
        "            Sens.append(sen)\n",
        "            \n",
        "            \n",
        "        results[\"Total Rejections\"].append(np.mean(n_rej))\n",
        "        results[\"True Rejections\"].append(np.mean(n_tr))\n",
        "        results[\"False Rejections\"].append(np.mean(n_fr))\n",
        "        results[\"FDR\"].append(np.mean(FDRs))\n",
        "        results[\"Sensitivity\"].append(np.mean(Sens))\n",
        "    return results"
      ],
      "execution_count": 0,
      "outputs": []
    },
    {
      "cell_type": "code",
      "metadata": {
        "id": "yaJMIFRtMOdE",
        "colab_type": "code",
        "colab": {}
      },
      "source": [
        "\n",
        "pi = [0.1, 0.3, 0.5, 0.7, 0.9]\n",
        "lord_1 = experiments(p_values_1, LORDD, 0.05, pi, N = 100)\n"
      ],
      "execution_count": 0,
      "outputs": []
    },
    {
      "cell_type": "code",
      "metadata": {
        "id": "n7GYO9fFhMCm",
        "colab_type": "code",
        "outputId": "ba183f8b-0d60-4d35-f8fe-94478131bf64",
        "colab": {
          "base_uri": "https://localhost:8080/",
          "height": 303
        }
      },
      "source": [
        "lord_1"
      ],
      "execution_count": 0,
      "outputs": [
        {
          "output_type": "execute_result",
          "data": {
            "text/plain": [
              "{'FDR': [0.004663315563695188,\n",
              "  0.015293539711668242,\n",
              "  0.02506790202719744,\n",
              "  0.03567764457336962,\n",
              "  0.032599517273641195],\n",
              " 'False Rejections': [3.71, 8.99, 9.73, 6.76, 0.8],\n",
              " 'Sensitivity': [0.879776082861962,\n",
              "  0.8308742725522541,\n",
              "  0.7559610205503877,\n",
              "  0.6031824762878837,\n",
              "  0.17826909377437797],\n",
              " 'Total Rejections': [795.18, 587.5, 387.63, 188.4, 19.03],\n",
              " 'True Rejections': [791.47, 578.51, 377.9, 181.64, 18.23]}"
            ]
          },
          "metadata": {
            "tags": []
          },
          "execution_count": 16
        }
      ]
    },
    {
      "cell_type": "code",
      "metadata": {
        "id": "srpoc-2FR3-q",
        "colab_type": "code",
        "colab": {}
      },
      "source": [
        "pi = [0.1, 0.3, 0.5, 0.7, 0.9]\n",
        "lord_2 = experiments(p_values_2, LORDD, 0.05, pi, N = 100)\n"
      ],
      "execution_count": 0,
      "outputs": []
    },
    {
      "cell_type": "code",
      "metadata": {
        "id": "a_0owu0qbGU4",
        "colab_type": "code",
        "outputId": "6b2d9388-50ab-4654-b5a5-af738193199e",
        "colab": {
          "base_uri": "https://localhost:8080/",
          "height": 238
        }
      },
      "source": [
        "lord_2"
      ],
      "execution_count": 0,
      "outputs": [
        {
          "output_type": "execute_result",
          "data": {
            "text/plain": [
              "{'FDR': [5.167244324106411e-05,\n",
              "  3.341969779882291e-05,\n",
              "  4.860025412663001e-05,\n",
              "  0.00011695906432748537,\n",
              "  0.0002197802197802198],\n",
              " 'False Rejections': [0.04, 0.02, 0.02, 0.02, 0.02],\n",
              " 'Sensitivity': [0.8762777777777778,\n",
              "  0.8085571428571429,\n",
              "  0.70062,\n",
              "  0.5338333333333334,\n",
              "  0.2104],\n",
              " 'Total Rejections': [788.65, 565.99, 350.31, 160.15, 21.04],\n",
              " 'True Rejections': [788.61, 565.97, 350.29, 160.13, 21.02]}"
            ]
          },
          "metadata": {
            "tags": []
          },
          "execution_count": 226
        }
      ]
    },
    {
      "cell_type": "code",
      "metadata": {
        "id": "pHKeiLZBSUT1",
        "colab_type": "code",
        "colab": {}
      },
      "source": [
        "lord_3 = experiments(p_values_3, LORDD, 0.05, pi, N = 100)"
      ],
      "execution_count": 0,
      "outputs": []
    },
    {
      "cell_type": "code",
      "metadata": {
        "id": "ZO-Zy7rkhqgO",
        "colab_type": "code",
        "outputId": "8f13343c-fe42-482d-aedc-dcc66e7cab70",
        "colab": {
          "base_uri": "https://localhost:8080/",
          "height": 238
        }
      },
      "source": [
        "lord_3"
      ],
      "execution_count": 0,
      "outputs": [
        {
          "output_type": "execute_result",
          "data": {
            "text/plain": [
              "{'FDR': [0.00019917912525863648,\n",
              "  0.0003327801506355237,\n",
              "  0.0005085746931283311,\n",
              "  0.0010017419531408462,\n",
              "  0.0029961464592119214],\n",
              " 'False Rejections': [0.16, 0.21, 0.23, 0.27, 0.27],\n",
              " 'Sensitivity': [0.8967444444444445,\n",
              "  0.898842857142857,\n",
              "  0.89768,\n",
              "  0.8976666666666666,\n",
              "  0.8964000000000002],\n",
              " 'Total Rejections': [807.07, 629.19, 448.84, 269.3, 89.64],\n",
              " 'True Rejections': [806.91, 628.98, 448.61, 269.03, 89.37]}"
            ]
          },
          "metadata": {
            "tags": []
          },
          "execution_count": 229
        }
      ]
    },
    {
      "cell_type": "code",
      "metadata": {
        "id": "0oHk7PM-SKPw",
        "colab_type": "code",
        "colab": {}
      },
      "source": [
        "bh_1 = experiments(p_values_1,benjamin_Hochberg_decision, 0.05, pi, N = 100)\n"
      ],
      "execution_count": 0,
      "outputs": []
    },
    {
      "cell_type": "code",
      "metadata": {
        "id": "wObj1Sl9fnN-",
        "colab_type": "code",
        "outputId": "2a2d8f74-89d6-4826-ceb3-0f536c78ba25",
        "colab": {
          "base_uri": "https://localhost:8080/",
          "height": 230
        }
      },
      "source": [
        "bh_1"
      ],
      "execution_count": 0,
      "outputs": [
        {
          "output_type": "execute_result",
          "data": {
            "text/plain": [
              "{'FDR': [0.005285305964345028,\n",
              "  0.015227013843950256,\n",
              "  0.025846582510414117,\n",
              "  0.034355591019130244,\n",
              "  0.04683605174560042],\n",
              " 'False Rejections': [4.27, 9.44, 11.18, 8.32, 2.94],\n",
              " 'Sensitivity': [0.8947446993528366,\n",
              "  0.8719555538091709,\n",
              "  0.8355674943823849,\n",
              "  0.7709420912597063,\n",
              "  0.5958429007666431],\n",
              " 'Total Rejections': [808.64, 619.68, 430.7, 240.82, 61.74],\n",
              " 'True Rejections': [804.37, 610.24, 419.52, 232.5, 58.8]}"
            ]
          },
          "metadata": {
            "tags": []
          },
          "execution_count": 27
        }
      ]
    },
    {
      "cell_type": "code",
      "metadata": {
        "id": "elfW8ggfWkkC",
        "colab_type": "code",
        "colab": {}
      },
      "source": [
        "bh_2 = experiments(p_values_2,benjamin_Hochberg_decision, 0.05, pi, N = 100)"
      ],
      "execution_count": 0,
      "outputs": []
    },
    {
      "cell_type": "code",
      "metadata": {
        "id": "g2qtvQbpgVhj",
        "colab_type": "code",
        "outputId": "636bb203-139b-4e39-abbd-f131b3b663cc",
        "colab": {
          "base_uri": "https://localhost:8080/",
          "height": 303
        }
      },
      "source": [
        "bh_2"
      ],
      "execution_count": 0,
      "outputs": [
        {
          "output_type": "execute_result",
          "data": {
            "text/plain": [
              "{'FDR': [0.005079609687907346,\n",
              "  0.015377773971760931,\n",
              "  0.024247354744791925,\n",
              "  0.035404805005358406,\n",
              "  0.046098012456050406],\n",
              " 'False Rejections': [4.11, 9.57, 10.38, 8.55, 2.94],\n",
              " 'Sensitivity': [0.8929333333333334,\n",
              "  0.8733571428571429,\n",
              "  0.83256,\n",
              "  0.7729666666666666,\n",
              "  0.6021],\n",
              " 'Total Rejections': [807.75, 620.92, 426.66, 240.44, 63.15],\n",
              " 'True Rejections': [803.64, 611.35, 416.28, 231.89, 60.21]}"
            ]
          },
          "metadata": {
            "tags": []
          },
          "execution_count": 43
        }
      ]
    },
    {
      "cell_type": "code",
      "metadata": {
        "id": "9f2gnl00WndW",
        "colab_type": "code",
        "outputId": "938c01f0-58f8-4f97-ae15-c62d1c25b231",
        "colab": {
          "base_uri": "https://localhost:8080/",
          "height": 303
        }
      },
      "source": [
        "bh_3 = experiments(p_values_3,benjamin_Hochberg_decision, 0.05, pi, N = 100)\n",
        "bh_3"
      ],
      "execution_count": 0,
      "outputs": [
        {
          "output_type": "execute_result",
          "data": {
            "text/plain": [
              "{'FDR': [0.005019379571246461,\n",
              "  0.01541104262463363,\n",
              "  0.024545161941060916,\n",
              "  0.03528954887208152,\n",
              "  0.0442890694048149],\n",
              " 'False Rejections': [4.08, 9.55, 10.56, 8.52, 2.9],\n",
              " 'Sensitivity': [0.8969888888888888,\n",
              "  0.8695142857142857,\n",
              "  0.8354599999999999,\n",
              "  0.7716333333333333,\n",
              "  0.6126999999999999],\n",
              " 'Total Rejections': [811.37, 618.21, 428.29, 240.01, 64.17],\n",
              " 'True Rejections': [807.29, 608.66, 417.73, 231.49, 61.27]}"
            ]
          },
          "metadata": {
            "tags": []
          },
          "execution_count": 45
        }
      ]
    },
    {
      "cell_type": "markdown",
      "metadata": {
        "id": "6g-grpHudPQD",
        "colab_type": "text"
      },
      "source": [
        ""
      ]
    },
    {
      "cell_type": "code",
      "metadata": {
        "id": "PdbsbGzmMsSF",
        "colab_type": "code",
        "colab": {}
      },
      "source": [
        "def plot(results, attribute, labels):\n",
        "    n = len(labels)\n",
        "#     plt.figure(figsize = (15,15), dpi = 500)\n",
        "    for i in range(n):\n",
        "        dictionary = results[i]\n",
        "        plt.plot(pi, dictionary[attribute], label = labels[i])\n",
        "        plt.title(\"Average \" + attribute)\n",
        "    plt.legend()\n",
        "    plt.show()"
      ],
      "execution_count": 0,
      "outputs": []
    },
    {
      "cell_type": "code",
      "metadata": {
        "id": "4JAst-ldSJWP",
        "colab_type": "code",
        "outputId": "b35de33d-7262-4627-fa5f-c90ebf290c9b",
        "colab": {
          "base_uri": "https://localhost:8080/",
          "height": 545
        }
      },
      "source": [
        "labels = [\"lord_1\",\"lord_2\",\"lord_3\"]\n",
        "results = [lord_1,lord_2,lord_3]\n",
        "\n",
        "\n",
        "\n",
        "\n",
        "\n",
        "\n",
        "plot(results, \"Sensitivity\", labels)\n",
        "plot(results, \"FDR\", labels)"
      ],
      "execution_count": 0,
      "outputs": [
        {
          "output_type": "display_data",
          "data": {
            "image/png": "[encoded data removed]",
            "text/plain": [
              "<Figure size 432x288 with 1 Axes>"
            ]
          },
          "metadata": {
            "tags": []
          }
        },
        {
          "output_type": "display_data",
          "data": {
            "image/png": "[encoded data removed]",
            "text/plain": [
              "<Figure size 432x288 with 1 Axes>"
            ]
          },
          "metadata": {
            "tags": []
          }
        }
      ]
    },
    {
      "cell_type": "code",
      "metadata": {
        "id": "JpUiGTvxRrY9",
        "colab_type": "code",
        "outputId": "8cf9c45e-d4fe-4eb0-b3e2-4ff1069582ee",
        "colab": {
          "base_uri": "https://localhost:8080/",
          "height": 545
        }
      },
      "source": [
        "labels = [\"bh_1\",\"bh_2\",\"bh_3\"]\n",
        "results = [bh_1,bh_2,bh_3]\n",
        "\n",
        "\n",
        "plot(results, \"Sensitivity\", labels)\n",
        "plot(results, \"FDR\", labels)"
      ],
      "execution_count": 0,
      "outputs": [
        {
          "output_type": "display_data",
          "data": {
            "image/png": "[encoded data removed]",
            "text/plain": [
              "<Figure size 432x288 with 1 Axes>"
            ]
          },
          "metadata": {
            "tags": []
          }
        },
        {
          "output_type": "display_data",
          "data": {
            "image/png": "[encoded data removed]",
            "text/plain": [
              "<Figure size 432x288 with 1 Axes>"
            ]
          },
          "metadata": {
            "tags": []
          }
        }
      ]
    },
    {
      "cell_type": "code",
      "metadata": {
        "id": "41MgHkonY8c8",
        "colab_type": "code",
        "outputId": "f8d77028-4e6a-41f5-8c9c-1a857abf8e2c",
        "colab": {
          "base_uri": "https://localhost:8080/",
          "height": 543
        }
      },
      "source": [
        "labels = [\"bh_2\"]\n",
        "results = [bh_2]\n",
        "\n",
        "\n",
        "plot(results, \"Sensitivity\", labels)\n",
        "plot(results, \"FDR\", labels)"
      ],
      "execution_count": 0,
      "outputs": [
        {
          "output_type": "display_data",
          "data": {
            "image/png": "[encoded data removed]",
            "text/plain": [
              "<Figure size 432x288 with 1 Axes>"
            ]
          },
          "metadata": {
            "tags": []
          }
        },
        {
          "output_type": "display_data",
          "data": {
            "image/png": "[encoded data removed]",
            "text/plain": [
              "<Figure size 432x288 with 1 Axes>"
            ]
          },
          "metadata": {
            "tags": []
          }
        }
      ]
    },
    {
      "cell_type": "code",
      "metadata": {
        "id": "cXqFCz7KQekV",
        "colab_type": "code",
        "outputId": "54c57f44-3877-4cac-ea84-3d434c250338",
        "colab": {
          "base_uri": "https://localhost:8080/",
          "height": 543
        }
      },
      "source": [
        "labels = [\"bh_3\"]\n",
        "results = [bh_3]\n",
        "\n",
        "\n",
        "plot(results, \"Sensitivity\", labels)\n",
        "plot(results, \"FDR\", labels)"
      ],
      "execution_count": 0,
      "outputs": [
        {
          "output_type": "display_data",
          "data": {
            "image/png": "[encoded data removed]",
            "text/plain": [
              "<Figure size 432x288 with 1 Axes>"
            ]
          },
          "metadata": {
            "tags": []
          }
        },
        {
          "output_type": "display_data",
          "data": {
            "image/png": "[encoded data removed]",
            "text/plain": [
              "<Figure size 432x288 with 1 Axes>"
            ]
          },
          "metadata": {
            "tags": []
          }
        }
      ]
    },
    {
      "cell_type": "code",
      "metadata": {
        "id": "-PVesSv1Y_8I",
        "colab_type": "code",
        "colab": {}
      },
      "source": [
        "pi = [0.1, 0.2, 0.3, 0.4, 0.5, 0.6, 0.7, 0.8, 0.9]\n"
      ],
      "execution_count": 0,
      "outputs": []
    }
  ]
}